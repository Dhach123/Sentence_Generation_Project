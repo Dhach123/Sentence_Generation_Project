{
 "cells": [
  {
   "cell_type": "code",
   "execution_count": 3,
   "metadata": {},
   "outputs": [
    {
     "name": "stderr",
     "output_type": "stream",
     "text": [
      "c:\\Users\\chopd\\AppData\\Local\\Programs\\Python\\Python38\\lib\\site-packages\\tqdm\\auto.py:21: TqdmWarning: IProgress not found. Please update jupyter and ipywidgets. See https://ipywidgets.readthedocs.io/en/stable/user_install.html\n",
      "  from .autonotebook import tqdm as notebook_tqdm\n"
     ]
    }
   ],
   "source": [
    "from transformers import AutoTokenizer, AutoModelForCausalLM\n",
    "import torch\n",
    "import time  # Import time for measuring inference\n",
    "import os"
   ]
  },
  {
   "cell_type": "code",
   "execution_count": 4,
   "metadata": {},
   "outputs": [
    {
     "data": {
      "text/plain": [
       "'d:\\\\Sentence_Generation_Project\\\\research'"
      ]
     },
     "execution_count": 4,
     "metadata": {},
     "output_type": "execute_result"
    }
   ],
   "source": [
    "%pwd"
   ]
  },
  {
   "cell_type": "code",
   "execution_count": 5,
   "metadata": {},
   "outputs": [],
   "source": [
    "os.chdir(\"../\")"
   ]
  },
  {
   "cell_type": "code",
   "execution_count": 6,
   "metadata": {},
   "outputs": [
    {
     "name": "stderr",
     "output_type": "stream",
     "text": [
      "The `load_in_4bit` and `load_in_8bit` arguments are deprecated and will be removed in the future versions. Please, pass a `BitsAndBytesConfig` object in `quantization_config` argument instead.\n",
      "Unused kwargs: ['_load_in_4bit', '_load_in_8bit', 'quant_method']. These kwargs are not used in <class 'transformers.utils.quantization_config.BitsAndBytesConfig'>.\n",
      "c:\\Users\\chopd\\AppData\\Local\\Programs\\Python\\Python38\\lib\\site-packages\\transformers\\quantizers\\auto.py:182: UserWarning: You passed `quantization_config` or equivalent parameters to `from_pretrained` but the model you're loading already has a `quantization_config` attribute. The `quantization_config` from the model will be used.\n",
      "  warnings.warn(warning_msg)\n",
      "`low_cpu_mem_usage` was None, now set to True since model is quantized.\n",
      "Loading checkpoint shards: 100%|██████████| 2/2 [02:32<00:00, 76.11s/it]\n",
      "c:\\Users\\chopd\\AppData\\Local\\Programs\\Python\\Python38\\lib\\site-packages\\transformers\\models\\llama\\modeling_llama.py:655: UserWarning: 1Torch was not compiled with flash attention. (Triggered internally at C:\\actions-runner\\_work\\pytorch\\pytorch\\builder\\windows\\pytorch\\aten\\src\\ATen\\native\\transformers\\cuda\\sdp_utils.cpp:555.)\n",
      "  attn_output = torch.nn.functional.scaled_dot_product_attention(\n",
      "Starting from v4.46, the `logits` model output will have the same type as the model (except at train time, where it will always be FP32)\n"
     ]
    },
    {
     "name": "stdout",
     "output_type": "stream",
     "text": [
      "Inference Time: 284.7011 seconds\n",
      "Generated Text: Generate a meaningful paragraph with at least 30 words using the following concepts: innovation, technology, society.\n",
      "Innovation has been at the forefront of technological advancements, transforming society in countless ways. From the invention of the internet to the rise of artificial intelligence, innovation has played a crucial role in shaping the world we live in today. As technology continues to evolve, it is imperative that we embrace innovation\n"
     ]
    }
   ],
   "source": [
    "\n",
    "\n",
    "\n",
    "# Load the saved model and tokenizer\n",
    "model_save_path = 'artifacts/model_trainer/saved_model'\n",
    "\n",
    "# Load the model with 8-bit quantization\n",
    "model = AutoModelForCausalLM.from_pretrained(\n",
    "    model_save_path,\n",
    "    load_in_8bit=True,  # Enable 8-bit loading\n",
    "    torch_dtype=torch.float16  # Use mixed precision for memory efficiency\n",
    ")\n",
    "tokenizer = AutoTokenizer.from_pretrained(model_save_path)\n",
    "\n",
    "# Check CUDA availability (only needed for inputs)\n",
    "device = \"cuda:0\" if torch.cuda.is_available() else \"cpu\"\n",
    "\n",
    "# Define concepts and create the prompt\n",
    "concepts = [\"innovation\", \"technology\", \"society\"]\n",
    "concepts_str = \", \".join(concepts)\n",
    "prompt = f\"Generate a meaningful paragraph with at least 30 words using the following concepts: {concepts_str}.\"\n",
    "\n",
    "# Tokenize the prompt and move to device if CUDA is available\n",
    "inputs = tokenizer(prompt, return_tensors=\"pt\").to(device)\n",
    "\n",
    "# Measure inference time\n",
    "start_time = time.time()\n",
    "with torch.no_grad():\n",
    "    outputs = model.generate(**inputs, max_length=100)  # Adjust max_length as needed\n",
    "end_time = time.time()\n",
    "\n",
    "inference_time = end_time - start_time\n",
    "print(f'Inference Time: {inference_time:.4f} seconds')\n",
    "\n",
    "# Decode the output\n",
    "output_text = tokenizer.decode(outputs[0], skip_special_tokens=True)\n",
    "print(f'Generated Text: {output_text}')\n"
   ]
  }
 ],
 "metadata": {
  "kernelspec": {
   "display_name": "Python 3",
   "language": "python",
   "name": "python3"
  },
  "language_info": {
   "codemirror_mode": {
    "name": "ipython",
    "version": 3
   },
   "file_extension": ".py",
   "mimetype": "text/x-python",
   "name": "python",
   "nbconvert_exporter": "python",
   "pygments_lexer": "ipython3",
   "version": "3.8.5"
  }
 },
 "nbformat": 4,
 "nbformat_minor": 2
}
