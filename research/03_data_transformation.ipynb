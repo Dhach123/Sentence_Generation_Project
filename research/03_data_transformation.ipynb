{
 "cells": [
  {
   "cell_type": "code",
   "execution_count": 1,
   "metadata": {},
   "outputs": [],
   "source": [
    "import os"
   ]
  },
  {
   "cell_type": "code",
   "execution_count": 2,
   "metadata": {},
   "outputs": [
    {
     "data": {
      "text/plain": [
       "'d:\\\\Sentence_Generation_Project\\\\research'"
      ]
     },
     "execution_count": 2,
     "metadata": {},
     "output_type": "execute_result"
    }
   ],
   "source": [
    "%pwd"
   ]
  },
  {
   "cell_type": "code",
   "execution_count": 3,
   "metadata": {},
   "outputs": [],
   "source": [
    "os.chdir(\"../\")"
   ]
  },
  {
   "cell_type": "code",
   "execution_count": 4,
   "metadata": {},
   "outputs": [
    {
     "data": {
      "text/plain": [
       "'d:\\\\Sentence_Generation_Project'"
      ]
     },
     "execution_count": 4,
     "metadata": {},
     "output_type": "execute_result"
    }
   ],
   "source": [
    "%pwd"
   ]
  },
  {
   "cell_type": "code",
   "execution_count": 5,
   "metadata": {},
   "outputs": [
    {
     "name": "stderr",
     "output_type": "stream",
     "text": [
      "c:\\Users\\chopd\\AppData\\Local\\Programs\\Python\\Python38\\lib\\site-packages\\tqdm\\auto.py:21: TqdmWarning: IProgress not found. Please update jupyter and ipywidgets. See https://ipywidgets.readthedocs.io/en/stable/user_install.html\n",
      "  from .autonotebook import tqdm as notebook_tqdm\n"
     ]
    }
   ],
   "source": [
    "from dataclasses import dataclass\n",
    "from pathlib import Path\n",
    "from transformers import AutoTokenizer\n",
    "import pandas as pd\n",
    "\n",
    "@dataclass(frozen=True)\n",
    "class DataTransformationConfig:\n",
    "    root_dir: Path\n",
    "    data_path: Path\n",
    "    tokenizer_name: str  # Keep as string for model ID"
   ]
  },
  {
   "cell_type": "code",
   "execution_count": 6,
   "metadata": {},
   "outputs": [],
   "source": [
    "# Instantiate the configuration\n",
    "config = DataTransformationConfig(\n",
    "    root_dir=Path('artifacts/data_transformation'),\n",
    "    data_path=Path('artifacts/data_ingestion/commongen_lite_train.csv'),\n",
    "    tokenizer_name='meta-llama/Llama-2-7b-chat-hf'  # Correct model ID\n",
    ")"
   ]
  },
  {
   "cell_type": "code",
   "execution_count": 7,
   "metadata": {},
   "outputs": [],
   "source": [
    "# Load the dataset\n",
    "df = pd.read_csv(config.data_path)"
   ]
  },
  {
   "cell_type": "code",
   "execution_count": 8,
   "metadata": {},
   "outputs": [],
   "source": [
    "# Initialize the tokenizer\n",
    "tokenizer = AutoTokenizer.from_pretrained(config.tokenizer_name)\n",
    "\n"
   ]
  },
  {
   "cell_type": "code",
   "execution_count": 9,
   "metadata": {},
   "outputs": [],
   "source": [
    "from textgeneration.constants import *\n",
    "from textgeneration.utils.common import read_yaml, create_directories"
   ]
  },
  {
   "cell_type": "code",
   "execution_count": 10,
   "metadata": {},
   "outputs": [],
   "source": [
    "class ConfigurationManager:\n",
    "    def __init__(\n",
    "        self,\n",
    "        config_filepath = CONFIG_FILE_PATH,\n",
    "        params_filepath = PARAMS_FILE_PATH):\n",
    "\n",
    "        self.config = read_yaml(config_filepath)\n",
    "        self.params = read_yaml(params_filepath)\n",
    "\n",
    "        create_directories([self.config.artifacts_root])\n",
    "\n",
    "\n",
    "    \n",
    "    def get_data_transformation_config(self) -> DataTransformationConfig:\n",
    "        config = self.config.data_transformation\n",
    "\n",
    "        create_directories([config.root_dir])\n",
    "\n",
    "        data_transformation_config = DataTransformationConfig(\n",
    "            root_dir=config.root_dir,\n",
    "            data_path=config.data_path,\n",
    "            tokenizer_name = config.tokenizer_name\n",
    "        )\n",
    "\n",
    "        return data_transformation_config"
   ]
  },
  {
   "cell_type": "code",
   "execution_count": 11,
   "metadata": {},
   "outputs": [
    {
     "name": "stdout",
     "output_type": "stream",
     "text": [
      "[2024-10-20 13:24:39,085: INFO: config: PyTorch version 2.4.1+cu118 available.]\n"
     ]
    }
   ],
   "source": [
    "import os\n",
    "from textgeneration.logging import logger\n",
    "from transformers import AutoTokenizer, AutoModelForCausalLM\n",
    "from datasets import load_dataset,load_from_disk\n",
    "import torch\n",
    "import pandas as pd"
   ]
  },
  {
   "cell_type": "code",
   "execution_count": 12,
   "metadata": {},
   "outputs": [
    {
     "name": "stdout",
     "output_type": "stream",
     "text": [
      "[2024-10-20 13:24:39,745: INFO: common: yaml file: config\\config.yaml loaded successfully]\n",
      "[2024-10-20 13:24:39,747: INFO: common: yaml file: params.yaml loaded successfully]\n",
      "[2024-10-20 13:24:39,748: INFO: common: created directory at: artifacts]\n",
      "[2024-10-20 13:24:39,749: INFO: common: created directory at: artifacts/data_transformation]\n",
      "Cleaned data saved to: artifacts\\data_transformation\\cleaned_concepts.csv\n"
     ]
    }
   ],
   "source": [
    "class DataTransformation:\n",
    "    def __init__(self, config: DataTransformationConfig):\n",
    "        self.config = config\n",
    "\n",
    "    # Define a function to remove tags from the concept set\n",
    "    def clean_concept_set(self, df):\n",
    "        # Assuming concept_set is a string representation of a list\n",
    "        def clean_single_concept_set(concept_set):\n",
    "            # Check if the concept_set is a string, otherwise handle it as a list\n",
    "            if isinstance(concept_set, str):\n",
    "                concepts = eval(concept_set)  # Convert string representation of list to actual list\n",
    "            else:\n",
    "                concepts = concept_set  # Use it directly if already a list\n",
    "            \n",
    "            # Extract the base concept (remove _N, _V, etc.)\n",
    "            cleaned_concepts = [concept.split('_')[0] for concept in concepts]  # Remove tags\n",
    "            return ', '.join(cleaned_concepts)  # Join cleaned concepts into a string\n",
    "\n",
    "        # Apply the cleaning function to the 'concept_set' column\n",
    "        df['cleaned_concept_set'] = df['concept_set'].apply(clean_single_concept_set)\n",
    "\n",
    "        # Keep only the cleaned concepts for training\n",
    "        formatted_data = df[['cleaned_concept_set']]\n",
    "\n",
    "        # Save the processed data to a new CSV file\n",
    "        output_path = Path('artifacts/data_transformation/cleaned_concepts.csv')\n",
    "        formatted_data.to_csv(output_path, index=False)\n",
    "\n",
    "        print(\"Cleaned data saved to:\", output_path)\n",
    "\n",
    "# Usage\n",
    "try:\n",
    "    config = ConfigurationManager()\n",
    "    data_transformation_config = config.get_data_transformation_config()\n",
    "    data_transformation = DataTransformation(config=data_transformation_config)\n",
    "    \n",
    "    # Load the dataset again\n",
    "    df = pd.read_csv(data_transformation_config.data_path)\n",
    "    \n",
    "    # Apply the cleaning process\n",
    "    data_transformation.clean_concept_set(df)\n",
    "except Exception as e:\n",
    "    raise e\n"
   ]
  },
  {
   "cell_type": "code",
   "execution_count": null,
   "metadata": {},
   "outputs": [],
   "source": []
  }
 ],
 "metadata": {
  "kernelspec": {
   "display_name": "Python 3",
   "language": "python",
   "name": "python3"
  },
  "language_info": {
   "codemirror_mode": {
    "name": "ipython",
    "version": 3
   },
   "file_extension": ".py",
   "mimetype": "text/x-python",
   "name": "python",
   "nbconvert_exporter": "python",
   "pygments_lexer": "ipython3",
   "version": "3.8.5"
  }
 },
 "nbformat": 4,
 "nbformat_minor": 2
}
